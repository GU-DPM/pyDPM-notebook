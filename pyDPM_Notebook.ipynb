{
  "cells": [
    {
      "cell_type": "markdown",
      "metadata": {
        "id": "view-in-github",
        "colab_type": "text"
      },
      "source": [
        "<a href=\"https://colab.research.google.com/github/GU-DPM/pyDPM-notebook/blob/main/pyDPM_Notebook.ipynb\" target=\"_parent\"><img src=\"https://colab.research.google.com/assets/colab-badge.svg\" alt=\"Open In Colab\"/></a>"
      ]
    },
    {
      "cell_type": "markdown",
      "metadata": {
        "id": "Drt3iTtsecl0"
      },
      "source": [
        "# Python DPM Code"
      ]
    },
    {
      "cell_type": "markdown",
      "metadata": {
        "id": "QU7AM2p4HOWW"
      },
      "source": [
        "# Optional -- Reset Env"
      ]
    },
    {
      "cell_type": "code",
      "execution_count": null,
      "metadata": {
        "cellView": "form",
        "id": "gX1XaKvwCARK"
      },
      "outputs": [],
      "source": [
        "#@title Optional -- Rest Colab env\n",
        "#@markdown Executing this cell will delete the checked out code and clear uploaded files\n",
        "\n",
        "%%shell\n",
        "\n",
        "rm -rf /content/simulation-repo/ /content/csv_result/ ||:\n",
        "rm /content/*.csv ||:"
      ]
    },
    {
      "cell_type": "markdown",
      "metadata": {
        "id": "7zFY8BMzY8kG"
      },
      "source": [
        "# 1. Install Dependecies"
      ]
    },
    {
      "cell_type": "code",
      "execution_count": null,
      "metadata": {
        "id": "ZqteMKO8VnlF",
        "cellView": "form"
      },
      "outputs": [],
      "source": [
        "#@title Install dependencies if required\n",
        "#@markdown Executing this cell will check if the simulation code is \n",
        "#@markdown already available and if not will install it\n",
        "\n",
        "%%shell \n",
        "\n",
        "cd /content/\n",
        "\n",
        "if [ -d \"simulation-repo\" ]; then\n",
        "  echo \"simulation-repo already exists -- not cloning files\"\n",
        "elif [ ! -d \"simulation-repo\" ]; then\n",
        "  echo \"Cloning simulation files\"\n",
        "  git clone -l -s git@github.com:GU-DPM/python-simulation.git simulation-repo\n",
        "fi\n"
      ]
    },
    {
      "cell_type": "markdown",
      "metadata": {
        "id": "wqdrkkpNZCHm"
      },
      "source": [
        "# 2. Select Parameters"
      ]
    },
    {
      "cell_type": "code",
      "execution_count": null,
      "metadata": {
        "cellView": "form",
        "id": "-dsL14EJc1iF"
      },
      "outputs": [],
      "source": [
        "#@title Select the number of drugs\n",
        "#@markdown Using the selection box, choose the number of drugs to use\n",
        "#@markdown and execute the cell to confirm choice\n",
        "\n",
        "num_drugs = 2 #@param [2, 3]"
      ]
    },
    {
      "cell_type": "code",
      "execution_count": null,
      "metadata": {
        "cellView": "form",
        "id": "X7sOK4G8ZPZ6"
      },
      "outputs": [],
      "source": [
        "#@title Upload parameter csv\n",
        "#@markdown Executing this code block will present an upload button to\n",
        "#@markdown upload the csv file to be used as parameter input \n",
        "#@markdown file in the simulation\n",
        "\n",
        "#@markdown Note: If multiple files are uploaded the upload will fail\n",
        "!cd /content/\n",
        "\n",
        "from google.colab import files\n",
        "uploaded = files.upload()\n",
        "\n",
        "length = len(uploaded.keys())\n",
        "\n",
        "if (length > 1):\n",
        "  raise RuntimeError(\"Expected one file but found {}\".format(length))\n",
        "\n",
        "parameter_csv = list(uploaded.keys())[0]"
      ]
    },
    {
      "cell_type": "code",
      "execution_count": null,
      "metadata": {
        "cellView": "form",
        "id": "kY-Oq5k1cecO"
      },
      "outputs": [],
      "source": [
        "#@title Upload misspecification csv\n",
        "#@markdown Executing this code block will present an upload button to\n",
        "#@markdown upload the misspecification csv file to be used as an input \n",
        "#@markdown file in the simulation\n",
        "\n",
        "#@markdown Note: If multiple files are uploaded the upload will fail\n",
        "\n",
        "from google.colab import files\n",
        "uploaded = files.upload()\n",
        "\n",
        "length = len(uploaded.keys())\n",
        "\n",
        "if (length > 1):\n",
        "  raise RuntimeError(\"Expected one file but found {}\".format(length))\n",
        "\n",
        "misspec_csv = list(uploaded.keys())[0]"
      ]
    },
    {
      "cell_type": "code",
      "execution_count": null,
      "metadata": {
        "cellView": "form",
        "id": "0tOPrfgvdPAu"
      },
      "outputs": [],
      "source": [
        "#@title Select strategies to simulate\n",
        "#@markdown Toggle the strategies off or on to include in the simulation\n",
        "\n",
        "#@markdown Execute the cell to confirm\n",
        "\n",
        "\n",
        "strategy1 = True #@param {type:\"boolean\"}\n",
        "strategy2_1 = True #@param {type:\"boolean\"}\n",
        "strategy2_2 = True #@param {type:\"boolean\"}\n",
        "strategy3 = True #@param {type:\"boolean\"}\n",
        "strategy4 = True #@param {type:\"boolean\"}\n",
        "strategy5 = True #@param {type:\"boolean\"}\n",
        "strategy6 = True #@param {type:\"boolean\"}\n",
        "strategy7 = True #@param {type:\"boolean\"}\n",
        "strategy8 = True #@param {type:\"boolean\"}\n",
        "\n",
        "\n",
        "strategies_list = []\n",
        "\n",
        "if strategy1:\n",
        "  strategies_list.append('strategy1')\n",
        "\n",
        "if strategy2_1:\n",
        "  strategies_list.append('strategy2.1')\n",
        "\n",
        "if strategy2_2:\n",
        "  strategies_list.append('strategy2.2')\n",
        "\n",
        "if strategy3:\n",
        "  strategies_list.append('strategy3')\n",
        "\n",
        "if strategy4:\n",
        "  strategies_list.append('strategy4')\n",
        "\n",
        "if strategy5:\n",
        "  strategies_list.append('strategy5')\n",
        "\n",
        "if strategy6:\n",
        "  strategies_list.append('strategy6')\n",
        "\n",
        "if strategy7:\n",
        "  strategies_list.append('strategy7')\n",
        "\n",
        "if strategy8:\n",
        "  strategies_list.append('strategy8')\n",
        "\n",
        "\n",
        "strategies = ' '.join(strategies_list)"
      ]
    },
    {
      "cell_type": "code",
      "execution_count": null,
      "metadata": {
        "cellView": "form",
        "id": "-LcDFeawegtA"
      },
      "outputs": [],
      "source": [
        "#@title Choose integer index of parameters\n",
        "#@markdown Select the integer index of parameters\n",
        "\n",
        "#@markdown Execute the cell to confirm\n",
        "\n",
        "par_ind = 0 #@param {type:\"slider\", min:0, max:100, step:1}"
      ]
    },
    {
      "cell_type": "code",
      "execution_count": null,
      "metadata": {
        "cellView": "form",
        "id": "WWl6Aa2PswLV"
      },
      "outputs": [],
      "source": [
        "#@title View parameters\n",
        "#@markdown Execute this cell to view parameters before running simulation\n",
        "\n",
        "print('num_drugs = {}'.format(num_drugs))\n",
        "print('parameter_csv = {}'.format(parameter_csv))\n",
        "print('misspec_csv = {}'.format(misspec_csv))\n",
        "print('strategies = {}'.format(strategies))\n",
        "print('par_ind = {}'.format(par_ind))"
      ]
    },
    {
      "cell_type": "markdown",
      "metadata": {
        "id": "9uiovKUHwzJ1"
      },
      "source": [
        "# 3. Execute Simulation"
      ]
    },
    {
      "cell_type": "code",
      "execution_count": null,
      "metadata": {
        "cellView": "form",
        "id": "MjmPEm3FXF_o"
      },
      "outputs": [],
      "source": [
        "#@markdown Execute this cell to run the simulation with the above parameters\n",
        "\n",
        "from google.colab import files\n",
        "\n",
        "!python3 /content/simulation-repo/DPM_cl.py run_par_csv \\\n",
        "--num_drug $num_drugs \\\n",
        "--filename_csv $parameter_csv \\\n",
        "--misspecification_filename_csv $misspec_csv \\\n",
        "--strategy $strategies \\\n",
        "--par_ind $par_ind"
      ]
    },
    {
      "cell_type": "markdown",
      "metadata": {
        "id": "MgkHFpx7HFyz"
      },
      "source": [
        "# 4. Display Plots"
      ]
    },
    {
      "cell_type": "code",
      "execution_count": null,
      "metadata": {
        "id": "2BvM0NFJHU_A",
        "cellView": "form"
      },
      "outputs": [],
      "source": [
        "#@markdown Execute this cell to display all plots generated from the simulation\n",
        "import os\n",
        "from pdf2image import convert_from_path, convert_from_bytes\n",
        "from IPython.display import display, Image\n",
        "\n",
        "for f in os.listdir('/content/csv_result'):\n",
        "  if f.endswith('.pdf'):\n",
        "    path = '/content/csv_result/' + f\n",
        "    images = convert_from_bytes(open(path, 'rb').read(), size=800)\n",
        "    display(images[0])"
      ]
    }
  ],
  "metadata": {
    "colab": {
      "collapsed_sections": [],
      "provenance": [],
      "include_colab_link": true
    },
    "kernelspec": {
      "display_name": "Python 3",
      "name": "python3"
    },
    "language_info": {
      "name": "python"
    }
  },
  "nbformat": 4,
  "nbformat_minor": 0
}