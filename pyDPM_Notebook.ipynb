{
  "nbformat": 4,
  "nbformat_minor": 0,
  "metadata": {
    "colab": {
      "provenance": [],
      "authorship_tag": "ABX9TyMOetlrxxM11UpWs/tzjX/I",
      "include_colab_link": true
    },
    "kernelspec": {
      "name": "python3",
      "display_name": "Python 3"
    },
    "language_info": {
      "name": "python"
    }
  },
  "cells": [
    {
      "cell_type": "markdown",
      "metadata": {
        "id": "view-in-github",
        "colab_type": "text"
      },
      "source": [
        "<a href=\"https://colab.research.google.com/github/GU-DPM/pyDPM-notebook/blob/main/pyDPM_Notebook.ipynb\" target=\"_parent\"><img src=\"https://colab.research.google.com/assets/colab-badge.svg\" alt=\"Open In Colab\"/></a>"
      ]
    },
    {
      "cell_type": "code",
      "source": [
        "%cd ../content/\n",
        "# %rm -rf simulation-repo/\n",
        "!git clone -l -s https://github.com/GU-DPM/python-simulation.git simulation-repo"
      ],
      "metadata": {
        "colab": {
          "base_uri": "https://localhost:8080/"
        },
        "id": "ZqteMKO8VnlF",
        "outputId": "59d783b6-7452-44e9-c2f1-75f9b604f5a6"
      },
      "execution_count": 5,
      "outputs": [
        {
          "output_type": "stream",
          "name": "stdout",
          "text": [
            "/content\n",
            "fatal: destination path 'simulation-repo' already exists and is not an empty directory.\n"
          ]
        }
      ]
    },
    {
      "cell_type": "code",
      "source": [
        "!python3 ./simulation-repo/DPM_cl.py run_par_csv --help"
      ],
      "metadata": {
        "colab": {
          "base_uri": "https://localhost:8080/"
        },
        "id": "MjmPEm3FXF_o",
        "outputId": "ed3c20bd-7980-432a-c759-b52f39fc152d"
      },
      "execution_count": 7,
      "outputs": [
        {
          "output_type": "stream",
          "name": "stdout",
          "text": [
            "usage: DPM_cl.py run_par_csv [-h] --num_drug {2,3} [--dose_method {d,c}]\n",
            "                             [--par_ind [PAR_IND [PAR_IND ...]]]\n",
            "                             [--dose_interval {0.1,0.2,0.05,0.5,0.01,0.02}]\n",
            "                             [--use_input_dose_combination_only]\n",
            "                             [--dose_combination [DOSE_COMBINATION [DOSE_COMBINATION ...]]]\n",
            "                             [--simduration SIMDURATION]\n",
            "                             [--limit_mortality LIMIT_MORTALITY]\n",
            "                             [--stepsize STEPSIZE]\n",
            "                             [--limit_radiologicdetection LIMIT_RADIOLOGICDETECTION]\n",
            "                             [--limit_moleculardetection LIMIT_MOLECULARDETECTION]\n",
            "                             [--lookahead_step LOOKAHEAD_STEP]\n",
            "                             [--maxnum_subseq MAXNUM_SUBSEQ]\n",
            "                             [--subtreedepth SUBTREEDEPTH] [--run_sim RUN_SIM]\n",
            "                             [--misspecification_sim_only MISSPECIFICATION_SIM_ONLY]\n",
            "                             [--erase_preresult ERASE_PRERESULT]\n",
            "                             [--par_criterisa [{1,2,3,4,5,6,7,8} [{1,2,3,4,5,6,7,8} ...]]]\n",
            "                             [--strategy_name [{strategy0,strategy1,strategy8,strategy5,strategy2.1,strategy6,strategy7,strategy4,all,strategy2.2,strategy3,strategy9} [{strategy0,strategy1,strategy8,strategy5,strategy2.1,strategy6,strategy7,strategy4,all,strategy2.2,strategy3,strategy9} ...]]]\n",
            "                             [--fullinput FULLINPUT]\n",
            "                             [--save_filename_param SAVE_FILENAME_PARAM]\n",
            "                             [--save_filename_stopt SAVE_FILENAME_STOPT]\n",
            "                             [--save_filename_pop SAVE_FILENAME_POP]\n",
            "                             [--save_filename_dosage SAVE_FILENAME_DOSAGE]\n",
            "                             [--save_filename_eachtimepoint SAVE_FILENAME_EACHTIMEPOINT]\n",
            "                             [--pathsave PATHSAVE] --filename_csv\n",
            "                             [FILENAME_CSV [FILENAME_CSV ...]]\n",
            "                             [--misspecification_filename_csv [MISSPECIFICATION_FILENAME_CSV [MISSPECIFICATION_FILENAME_CSV ...]]]\n",
            "\n",
            "optional arguments:\n",
            "  -h, --help            show this help message and exit\n",
            "  --num_drug {2,3}      Number of drugs. Two drug number allowed: 2 or 3.\n",
            "  --dose_method {d,c}   Dose method. Two dose methods allowed: d:discrete dose\n",
            "                        or c:continous dose. Default=discrete dose.\n",
            "  --par_ind [PAR_IND [PAR_IND ...]]\n",
            "                        Integer index of parameters. E.g. 1 50. Default = None\n",
            "  --dose_interval {0.1,0.2,0.05,0.5,0.01,0.02}\n",
            "                        Dose interval for continous dose. If --dose_method is\n",
            "                        set to \"c\" which means continous dose, the dose for a\n",
            "                        single durg is 0:dose_interval:1. If --dose_method is\n",
            "                        set to \"d\" which means discrete dose, this argument is\n",
            "                        ignored. Default=0.1.\n",
            "  --use_input_dose_combination_only\n",
            "                        If flag this argument, will use the input dose\n",
            "                        combinations only. Default = False.\n",
            "  --dose_combination [DOSE_COMBINATION [DOSE_COMBINATION ...]]\n",
            "                        Dose combinations. The number of input should be\n",
            "                        integer multiple of the drug number specified by\n",
            "                        --num_drug. E.g., if the drug number equals 2, the\n",
            "                        number of --dose_combination inputs can be 2, 4, 6,\n",
            "                        ..., 2*n. The first input in the two consecutive\n",
            "                        numbers is the dose of drug 1 and the second is the\n",
            "                        dose of drug 2. Value range: min: 0, max: 1. Default:\n",
            "                        if use discrete dose, the dose for a single drug will\n",
            "                        be 0, 0.5, 1 in 2 drug case and 0, 1/3, 1/2, 1 in 3\n",
            "                        drug case. If use continous dose, the dose for a\n",
            "                        single drug will be 0:dose_interval:1. The default\n",
            "                        dose combinations are all possiable drug dose\n",
            "                        combinations which gives total dose equal 1.\n",
            "  --simduration SIMDURATION\n",
            "                        Set the simulation duration (days). Value range: min:\n",
            "                        180, max: 7300. Default = 1800.\n",
            "  --limit_mortality LIMIT_MORTALITY\n",
            "                        Set the threshold of cell number that cause mortality\n",
            "                        (#). Value range: min: 1.00e+09, max: 1.00e+14.\n",
            "                        Default = 1.00e+13.\n",
            "  --stepsize STEPSIZE   Set the treatments adjusted duration (days). Value\n",
            "                        range: min: 15, max: 200. Default = 45.\n",
            "  --limit_radiologicdetection LIMIT_RADIOLOGICDETECTION\n",
            "                        Set the threshold of cell number that can be detected\n",
            "                        by radiology. Value range: min: 1.00e+08, max:\n",
            "                        1.00e+09. Default = 1.00e+09.\n",
            "  --limit_moleculardetection LIMIT_MOLECULARDETECTION\n",
            "                        Set the ratio threshold of molecular cell type that\n",
            "                        can be detected. Value range: min: 1.00e-09, max:\n",
            "                        1.00e-01. Default = 1.00e-04.\n",
            "  --lookahead_step LOOKAHEAD_STEP\n",
            "                        Set the look-ahead steps in multistep extension\n",
            "                        strategies (#). Value range: min: 2, max: 5. Default =\n",
            "                        5.\n",
            "  --maxnum_subseq MAXNUM_SUBSEQ\n",
            "                        Set the maximum number of tracked subsequences in\n",
            "                        strategy 9 (#). Value range: 2 drug case, min: 100,\n",
            "                        max: 500, default = 500; 3 drug case, min: 10, max:\n",
            "                        50, default = 50.\n",
            "  --subtreedepth SUBTREEDEPTH\n",
            "                        Set the subtree depth of strategy 9 (#). Value range:\n",
            "                        min: 2, max: 5. Default = 5.\n",
            "  --run_sim RUN_SIM     Do simulation if True otherwise not. Default = True.\n",
            "  --misspecification_sim_only MISSPECIFICATION_SIM_ONLY\n",
            "                        Only simulate the mis-specification parameters if True\n",
            "                        otherwise not. Default = False.\n",
            "  --erase_preresult ERASE_PRERESULT\n",
            "                        Erase the exist simulation result in the save files if\n",
            "                        True otherwise not. Default = True.\n",
            "  --par_criterisa [{1,2,3,4,5,6,7,8} [{1,2,3,4,5,6,7,8} ...]]\n",
            "                        Parameter criterisa for 2 drug case, 0: The potency of\n",
            "                        drugs on S cell follows: drug 1 >= drug2\n",
            "                        (Sa_ratio_S_D2toS_D1 <= 1). 1: There are sensitive\n",
            "                        cells at the initial cell population (R1(t=0) +\n",
            "                        R2(t=0) < N(t=0)). 2: Drug 1 and Drug 2' rate of\n",
            "                        killing cells that resistant to drug 1 and drug 2\n",
            "                        repectively is slower than its growth rate (Sa(R1, D1)\n",
            "                        <= g0_R1 and Sa(R2, D2) <= g0_R2). 3: Drug 1 and Drug\n",
            "                        2 both have effect on sensitive cells (Sa(S,D1) > 0\n",
            "                        and Sa(S,D2) > 0). 4: S cell type can be eradicated by\n",
            "                        each drug (Sa(S, D1) > g0_S and Sa(S, D2) > g0_S). 5:\n",
            "                        Multiply-resistant cell types cannot be eradicated by\n",
            "                        any drug (Sa(R12, D1) < g0 and Sa(R12, D2) < g0). 6:\n",
            "                        The patient can be cured by simultaneous full dosages\n",
            "                        of all drugs but cannot be cured by any valid static\n",
            "                        treatment. Parameter criterisa for 3 drug case, 7: The\n",
            "                        potency of drugs on S cell follows drug 1 >= drug 2 >=\n",
            "                        drug 3. 8: The initial size of a doubly-resistant\n",
            "                        subpopulation is no greater than the initial sizes of\n",
            "                        the two singly-resistant subpopulations from which it\n",
            "                        is derived. Default = no criterisa applied.\n",
            "  --strategy_name [{strategy0,strategy1,strategy8,strategy5,strategy2.1,strategy6,strategy7,strategy4,all,strategy2.2,strategy3,strategy9} [{strategy0,strategy1,strategy8,strategy5,strategy2.1,strategy6,strategy7,strategy4,all,strategy2.2,strategy3,strategy9} ...]]\n",
            "                        Select the strategy to be used. Default={strategy0,\n",
            "                        strategy2.2}\n",
            "  --fullinput FULLINPUT\n",
            "                        Need to specify every parameters of the model in the\n",
            "                        input .csv file if True otherwise not. Default =\n",
            "                        False.\n",
            "  --save_filename_param SAVE_FILENAME_PARAM\n",
            "                        Save the parameter configuration to .txt file if True\n",
            "                        otherwise not. Default = True.\n",
            "  --save_filename_stopt SAVE_FILENAME_STOPT\n",
            "                        Save the survival times to .txt file if True otherwise\n",
            "                        not. Default = True.\n",
            "  --save_filename_pop SAVE_FILENAME_POP\n",
            "                        Save the population composition dynamics at each\n",
            "                        stepsize to .txt file if True otherwise not. Default =\n",
            "                        False.\n",
            "  --save_filename_dosage SAVE_FILENAME_DOSAGE\n",
            "                        Save the dosage combination sequence to .txt file if\n",
            "                        True otherwise not. Default = True.\n",
            "  --save_filename_eachtimepoint SAVE_FILENAME_EACHTIMEPOINT\n",
            "                        Save the poulation composition dynamics at each time\n",
            "                        points to .txt file if True otherwise not.Default =\n",
            "                        False.\n",
            "  --pathsave PATHSAVE   Set the saving directory of the simulation result.\n",
            "                        Default = ./csv_result.\n",
            "  --filename_csv [FILENAME_CSV [FILENAME_CSV ...]]\n",
            "                        The .csv file name contains the parameters. E.g.\n",
            "                        example_DPM_parameter_2drug.csv.\n",
            "  --misspecification_filename_csv [MISSPECIFICATION_FILENAME_CSV [MISSPECIFICATION_FILENAME_CSV ...]]\n",
            "                        The .csv file name contains the mis-specified\n",
            "                        parameters. The number of parameters in this file\n",
            "                        should be exactly the same as the number of parameters\n",
            "                        in the file specified by argument --filename.csv. E.g.\n",
            "                        example_DPM_parameter_2drug_mis. Default = None.\n"
          ]
        }
      ]
    }
  ]
}